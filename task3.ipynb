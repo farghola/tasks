{
 "cells": [
  {
   "cell_type": "code",
   "execution_count": 1,
   "id": "2751f06f",
   "metadata": {},
   "outputs": [],
   "source": [
    "from cobra import Model,Reaction,Metabolite\n"
   ]
  },
  {
   "cell_type": "code",
   "execution_count": 2,
   "id": "07a4a136",
   "metadata": {},
   "outputs": [],
   "source": [
    "model=Model(\"Growth_rate\")"
   ]
  },
  {
   "cell_type": "code",
   "execution_count": 3,
   "id": "0f46d131",
   "metadata": {},
   "outputs": [],
   "source": [
    "reaction0=Reaction(\"reaction0\")\n",
    "reaction0.name=\"reaction0\"\n",
    "reaction0.lower_bound=20\n",
    "reaction0.upper_bound=20"
   ]
  },
  {
   "cell_type": "code",
   "execution_count": 4,
   "id": "2e544514",
   "metadata": {},
   "outputs": [],
   "source": [
    "reaction1=Reaction(\"reaction1\")\n",
    "reaction1.name=\"reaction1\"\n",
    "reaction1.lower_bound=0\n",
    "reaction1.upper_bound=1000"
   ]
  },
  {
   "cell_type": "code",
   "execution_count": 5,
   "id": "1f58d1a8",
   "metadata": {},
   "outputs": [],
   "source": [
    "reaction2=Reaction(\"reaction2\")\n",
    "reaction2.name=\"reaction2\"\n",
    "reaction2.lower_bound=0\n",
    "reaction2.upper_bound=1000"
   ]
  },
  {
   "cell_type": "code",
   "execution_count": 6,
   "id": "dff0a848",
   "metadata": {},
   "outputs": [],
   "source": [
    "reaction3=Reaction(\"reaction3\")\n",
    "reaction3.name=\"reaction3\"\n",
    "reaction3.lower_bound=18\n",
    "reaction3.upper_bound=18"
   ]
  },
  {
   "cell_type": "code",
   "execution_count": 7,
   "id": "22285159",
   "metadata": {},
   "outputs": [],
   "source": [
    "reaction4=Reaction(\"reaction4\")\n",
    "reaction4.name=\"reaction4\"\n",
    "reaction4.lower_bound=0\n",
    "reaction4.upper_bound=1000"
   ]
  },
  {
   "cell_type": "code",
   "execution_count": 8,
   "id": "9123d28c",
   "metadata": {},
   "outputs": [],
   "source": [
    "growth_rate=Reaction(\"growth_rate\")\n",
    "growth_rate.name=\"growth_rate\"\n",
    "growth_rate.lower_bound=0\n",
    "growth_rate.upper_bound=1000"
   ]
  },
  {
   "cell_type": "code",
   "execution_count": 9,
   "id": "5f111015",
   "metadata": {},
   "outputs": [],
   "source": [
    "A=Metabolite(\"A\",compartment=\"c\")\n",
    "B=Metabolite(\"B\",compartment=\"c\")\n",
    "C=Metabolite(\"C\",compartment=\"c\")\n",
    "ATP=Metabolite(\"ATP\",compartment=\"c\")"
   ]
  },
  {
   "cell_type": "code",
   "execution_count": 11,
   "id": "dc39f60b",
   "metadata": {},
   "outputs": [],
   "source": [
    "####### reaction0: =====>A $$$$$444\n",
    "reaction0.add_metabolites({A:1})\n",
    "#### reaction1: A======> B #########\n",
    "reaction1.add_metabolites({A:-1,B:1})\n",
    "#### reaction2: B======>C #########\n",
    "reaction2.add_metabolites({B:-1,C:1})\n",
    "#### reaction3: A======> ATP #########\n",
    "reaction3.add_metabolites({A:-1,ATP:1})\n",
    "#### reaction4: ATP======> #########\n",
    "reaction4.add_metabolites({ATP:-1})\n",
    "#### M: C======> #########\n",
    "growth_rate.add_metabolites({C:-1})"
   ]
  },
  {
   "cell_type": "code",
   "execution_count": 12,
   "id": "82ec2a78",
   "metadata": {},
   "outputs": [],
   "source": [
    "model.add_reactions([reaction0,reaction1,reaction2,reaction3,reaction4,growth_rate])\n"
   ]
  },
  {
   "cell_type": "code",
   "execution_count": 13,
   "id": "bf0aa8ff",
   "metadata": {},
   "outputs": [],
   "source": [
    "model.objective=\"growth_rate\"\n"
   ]
  },
  {
   "cell_type": "code",
   "execution_count": 14,
   "id": "7eb49355",
   "metadata": {},
   "outputs": [
    {
     "data": {
      "text/html": [
       "<strong><em>Optimal</em> solution with objective value 2.000</strong><br><div>\n",
       "<style scoped>\n",
       "    .dataframe tbody tr th:only-of-type {\n",
       "        vertical-align: middle;\n",
       "    }\n",
       "\n",
       "    .dataframe tbody tr th {\n",
       "        vertical-align: top;\n",
       "    }\n",
       "\n",
       "    .dataframe thead th {\n",
       "        text-align: right;\n",
       "    }\n",
       "</style>\n",
       "<table border=\"1\" class=\"dataframe\">\n",
       "  <thead>\n",
       "    <tr style=\"text-align: right;\">\n",
       "      <th></th>\n",
       "      <th>fluxes</th>\n",
       "      <th>reduced_costs</th>\n",
       "    </tr>\n",
       "  </thead>\n",
       "  <tbody>\n",
       "    <tr>\n",
       "      <th>reaction0</th>\n",
       "      <td>20.0</td>\n",
       "      <td>2.0</td>\n",
       "    </tr>\n",
       "    <tr>\n",
       "      <th>reaction1</th>\n",
       "      <td>2.0</td>\n",
       "      <td>0.0</td>\n",
       "    </tr>\n",
       "    <tr>\n",
       "      <th>reaction2</th>\n",
       "      <td>2.0</td>\n",
       "      <td>0.0</td>\n",
       "    </tr>\n",
       "    <tr>\n",
       "      <th>reaction3</th>\n",
       "      <td>18.0</td>\n",
       "      <td>-2.0</td>\n",
       "    </tr>\n",
       "    <tr>\n",
       "      <th>reaction4</th>\n",
       "      <td>18.0</td>\n",
       "      <td>0.0</td>\n",
       "    </tr>\n",
       "    <tr>\n",
       "      <th>growth_rate</th>\n",
       "      <td>2.0</td>\n",
       "      <td>0.0</td>\n",
       "    </tr>\n",
       "  </tbody>\n",
       "</table>\n",
       "</div>"
      ],
      "text/plain": [
       "<Solution 2.000 at 0x264c1092100>"
      ]
     },
     "execution_count": 14,
     "metadata": {},
     "output_type": "execute_result"
    }
   ],
   "source": [
    "model.optimize()\n"
   ]
  },
  {
   "cell_type": "code",
   "execution_count": 15,
   "id": "66418d05",
   "metadata": {},
   "outputs": [
    {
     "data": {
      "text/html": [
       "<h3>Objective</h3><p>1.0 growth_rate = 2.0</p><h4>Uptake</h4><table border=\"1\" class=\"dataframe\">\n",
       "  <thead>\n",
       "    <tr style=\"text-align: right;\">\n",
       "      <th>Metabolite</th>\n",
       "      <th>Reaction</th>\n",
       "      <th>Flux</th>\n",
       "      <th>C-Number</th>\n",
       "      <th>C-Flux</th>\n",
       "    </tr>\n",
       "  </thead>\n",
       "  <tbody>\n",
       "    <tr>\n",
       "      <td>A</td>\n",
       "      <td>reaction0</td>\n",
       "      <td>20</td>\n",
       "      <td>0</td>\n",
       "      <td>0.00%</td>\n",
       "    </tr>\n",
       "  </tbody>\n",
       "</table><h4>Secretion</h4><table border=\"1\" class=\"dataframe\">\n",
       "  <thead>\n",
       "    <tr style=\"text-align: right;\">\n",
       "      <th>Metabolite</th>\n",
       "      <th>Reaction</th>\n",
       "      <th>Flux</th>\n",
       "      <th>C-Number</th>\n",
       "      <th>C-Flux</th>\n",
       "    </tr>\n",
       "  </thead>\n",
       "  <tbody>\n",
       "    <tr>\n",
       "      <td>C</td>\n",
       "      <td>growth_rate</td>\n",
       "      <td>-2</td>\n",
       "      <td>0</td>\n",
       "      <td>0.00%</td>\n",
       "    </tr>\n",
       "    <tr>\n",
       "      <td>ATP</td>\n",
       "      <td>reaction4</td>\n",
       "      <td>-18</td>\n",
       "      <td>0</td>\n",
       "      <td>0.00%</td>\n",
       "    </tr>\n",
       "  </tbody>\n",
       "</table>"
      ],
      "text/plain": [
       "<cobra.summary.model_summary.ModelSummary at 0x264c1092640>"
      ]
     },
     "execution_count": 15,
     "metadata": {},
     "output_type": "execute_result"
    }
   ],
   "source": [
    "model.summary()\n"
   ]
  },
  {
   "cell_type": "code",
   "execution_count": 17,
   "id": "6cc7065b",
   "metadata": {},
   "outputs": [],
   "source": [
    "import cobra\n",
    "cobra.io.save_json_model(model,\"model.json\")"
   ]
  },
  {
   "cell_type": "code",
   "execution_count": 19,
   "id": "5688f575",
   "metadata": {},
   "outputs": [
    {
     "data": {
      "text/html": [
       "\n",
       "        <table>\n",
       "            <tr>\n",
       "                <td><strong>Name</strong></td>\n",
       "                <td>Growth_rate</td>\n",
       "            </tr><tr>\n",
       "                <td><strong>Memory address</strong></td>\n",
       "                <td>0x0264c1092670</td>\n",
       "            </tr><tr>\n",
       "                <td><strong>Number of metabolites</strong></td>\n",
       "                <td>4</td>\n",
       "            </tr><tr>\n",
       "                <td><strong>Number of reactions</strong></td>\n",
       "                <td>6</td>\n",
       "            </tr><tr>\n",
       "                <td><strong>Number of groups</strong></td>\n",
       "                <td>0</td>\n",
       "            </tr><tr>\n",
       "                <td><strong>Objective expression</strong></td>\n",
       "                <td>1.0*growth_rate - 1.0*growth_rate_reverse_ad2c8</td>\n",
       "            </tr><tr>\n",
       "                <td><strong>Compartments</strong></td>\n",
       "                <td>c</td>\n",
       "            </tr>\n",
       "          </table>"
      ],
      "text/plain": [
       "<Model Growth_rate at 0x264c1092670>"
      ]
     },
     "execution_count": 19,
     "metadata": {},
     "output_type": "execute_result"
    }
   ],
   "source": [
    "cobra.io.load_json_model(\"model.json\")\n"
   ]
  },
  {
   "cell_type": "code",
   "execution_count": 20,
   "id": "d76b02db",
   "metadata": {},
   "outputs": [],
   "source": [
    "from escher import Builder\n"
   ]
  },
  {
   "cell_type": "code",
   "execution_count": 21,
   "id": "59d2a1de",
   "metadata": {},
   "outputs": [],
   "source": [
    "build=Builder()\n"
   ]
  },
  {
   "cell_type": "code",
   "execution_count": 23,
   "id": "5a71cfbc",
   "metadata": {},
   "outputs": [
    {
     "data": {
      "application/vnd.jupyter.widget-view+json": {
       "model_id": "7efb7a2f503542d9b4e94081b1690484",
       "version_major": 2,
       "version_minor": 0
      },
      "text/plain": [
       "Builder(allow_building_duplicate_reactions=False, and_method_in_gene_reaction_rule='mean', cofactors=['atp', '…"
      ]
     },
     "metadata": {},
     "output_type": "display_data"
    }
   ],
   "source": [
    "build"
   ]
  },
  {
   "cell_type": "code",
   "execution_count": null,
   "id": "aa1a5a6b",
   "metadata": {},
   "outputs": [],
   "source": []
  }
 ],
 "metadata": {
  "kernelspec": {
   "display_name": "Python 3 (ipykernel)",
   "language": "python",
   "name": "python3"
  },
  "language_info": {
   "codemirror_mode": {
    "name": "ipython",
    "version": 3
   },
   "file_extension": ".py",
   "mimetype": "text/x-python",
   "name": "python",
   "nbconvert_exporter": "python",
   "pygments_lexer": "ipython3",
   "version": "3.9.7"
  }
 },
 "nbformat": 4,
 "nbformat_minor": 5
}
