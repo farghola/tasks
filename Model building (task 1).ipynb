{
 "cells": [
  {
   "cell_type": "code",
   "execution_count": 1,
   "id": "e55b5fae",
   "metadata": {},
   "outputs": [],
   "source": [
    "import cobra"
   ]
  },
  {
   "cell_type": "code",
   "execution_count": 2,
   "id": "94a550eb",
   "metadata": {},
   "outputs": [],
   "source": [
    "from cobra import Model,Reaction,Metabolite"
   ]
  },
  {
   "cell_type": "code",
   "execution_count": 3,
   "id": "4116ffcf",
   "metadata": {},
   "outputs": [],
   "source": [
    "# define the model\n",
    "\n",
    "model = Model('Model')  "
   ]
  },
  {
   "cell_type": "code",
   "execution_count": 5,
   "id": "52aed601",
   "metadata": {},
   "outputs": [],
   "source": [
    "# define the reactions \n",
    "\n",
    "reaction0=Reaction('reaction0')\n",
    "reaction0.name='reaction0'\n",
    "reaction0.lower_bound=1\n",
    "reaction0.upper_bound=1\n",
    "\n",
    "reaction1=Reaction('reaction1')\n",
    "reaction1.name='reaction1'\n",
    "reaction1.lower_bound=0\n",
    "reaction1.upper_bound=1000\n",
    "\n",
    "reaction2=Reaction('reaction2')\n",
    "reaction2.name='reaction2'\n",
    "reaction2.lower_bound=0\n",
    "reaction2.upper_bound=1000\n",
    "\n",
    "reaction3=Reaction('reaction3')\n",
    "reaction3.name='reaction3'\n",
    "reaction3.lower_bound=.9\n",
    "reaction3.upper_bound=.9\n",
    "\n",
    "reaction4=Reaction('reaction4')\n",
    "reaction4.name='reaction4'\n",
    "reaction4.lower_bound=0\n",
    "reaction4.upper_bound=1000\n",
    "\n",
    "M=Reaction('M')\n",
    "M.name='M'\n",
    "M.lower_bound=0\n",
    "M.upper_bound=1000"
   ]
  },
  {
   "cell_type": "code",
   "execution_count": 6,
   "id": "573720b1",
   "metadata": {},
   "outputs": [],
   "source": [
    "# define the metabolites\n",
    "\n",
    "A=Metabolite('A',compartment='c')\n",
    "B=Metabolite('B',compartment='c')\n",
    "C=Metabolite('C',compartment='c')\n",
    "ATP=Metabolite('ATP',compartment='c')"
   ]
  },
  {
   "cell_type": "code",
   "execution_count": 7,
   "id": "4e6baebe",
   "metadata": {},
   "outputs": [],
   "source": [
    "# add metabolites to reactions\n",
    "\n",
    "reaction0.add_metabolites({A:1}) # the metabolite A: in\n",
    "reaction1.add_metabolites({A:-1,B:1}) # metabolite A: out, metabolite B:in\n",
    "reaction2.add_metabolites({B:-1,C:1}) # metabolite B: out, metabolite C:in\n",
    "M.add_metabolites({C:-1}) # metabolite C:out\n",
    "reaction3.add_metabolites({A:-1,ATP:1}) # metabolite A turned to ATP means energy generation\n",
    "reaction4.add_metabolites({ATP:-1}) # ATP released means energy consuming"
   ]
  },
  {
   "cell_type": "code",
   "execution_count": 8,
   "id": "53280cfe",
   "metadata": {},
   "outputs": [],
   "source": [
    "# add reactions to the model\n",
    "\n",
    "model.add_reactions([reaction0,reaction1,reaction2,reaction3,reaction4,M])"
   ]
  },
  {
   "cell_type": "code",
   "execution_count": 10,
   "id": "feffc079",
   "metadata": {},
   "outputs": [],
   "source": [
    "# set the objective of the model\n",
    "\n",
    "model.objective='M'"
   ]
  },
  {
   "cell_type": "code",
   "execution_count": 11,
   "id": "14e428c7",
   "metadata": {},
   "outputs": [
    {
     "data": {
      "text/html": [
       "<strong><em>Optimal</em> solution with objective value 0.100</strong><br><div>\n",
       "<style scoped>\n",
       "    .dataframe tbody tr th:only-of-type {\n",
       "        vertical-align: middle;\n",
       "    }\n",
       "\n",
       "    .dataframe tbody tr th {\n",
       "        vertical-align: top;\n",
       "    }\n",
       "\n",
       "    .dataframe thead th {\n",
       "        text-align: right;\n",
       "    }\n",
       "</style>\n",
       "<table border=\"1\" class=\"dataframe\">\n",
       "  <thead>\n",
       "    <tr style=\"text-align: right;\">\n",
       "      <th></th>\n",
       "      <th>fluxes</th>\n",
       "      <th>reduced_costs</th>\n",
       "    </tr>\n",
       "  </thead>\n",
       "  <tbody>\n",
       "    <tr>\n",
       "      <th>reaction0</th>\n",
       "      <td>1.0</td>\n",
       "      <td>2.0</td>\n",
       "    </tr>\n",
       "    <tr>\n",
       "      <th>reaction1</th>\n",
       "      <td>0.1</td>\n",
       "      <td>0.0</td>\n",
       "    </tr>\n",
       "    <tr>\n",
       "      <th>reaction2</th>\n",
       "      <td>0.1</td>\n",
       "      <td>0.0</td>\n",
       "    </tr>\n",
       "    <tr>\n",
       "      <th>reaction3</th>\n",
       "      <td>0.9</td>\n",
       "      <td>-2.0</td>\n",
       "    </tr>\n",
       "    <tr>\n",
       "      <th>reaction4</th>\n",
       "      <td>0.9</td>\n",
       "      <td>0.0</td>\n",
       "    </tr>\n",
       "    <tr>\n",
       "      <th>M</th>\n",
       "      <td>0.1</td>\n",
       "      <td>0.0</td>\n",
       "    </tr>\n",
       "  </tbody>\n",
       "</table>\n",
       "</div>"
      ],
      "text/plain": [
       "<Solution 0.100 at 0x1d4741c5c40>"
      ]
     },
     "execution_count": 11,
     "metadata": {},
     "output_type": "execute_result"
    }
   ],
   "source": [
    "# make the model optimal depending on the objective value\n",
    "\n",
    "model.optimize()"
   ]
  },
  {
   "cell_type": "code",
   "execution_count": 12,
   "id": "d24123d8",
   "metadata": {},
   "outputs": [
    {
     "data": {
      "text/html": [
       "<h3>Objective</h3><p>1.0 M = 0.09999999999999998</p><h4>Uptake</h4><table border=\"1\" class=\"dataframe\">\n",
       "  <thead>\n",
       "    <tr style=\"text-align: right;\">\n",
       "      <th>Metabolite</th>\n",
       "      <th>Reaction</th>\n",
       "      <th>Flux</th>\n",
       "      <th>C-Number</th>\n",
       "      <th>C-Flux</th>\n",
       "    </tr>\n",
       "  </thead>\n",
       "  <tbody>\n",
       "    <tr>\n",
       "      <td>A</td>\n",
       "      <td>reaction0</td>\n",
       "      <td>1</td>\n",
       "      <td>0</td>\n",
       "      <td>0.00%</td>\n",
       "    </tr>\n",
       "  </tbody>\n",
       "</table><h4>Secretion</h4><table border=\"1\" class=\"dataframe\">\n",
       "  <thead>\n",
       "    <tr style=\"text-align: right;\">\n",
       "      <th>Metabolite</th>\n",
       "      <th>Reaction</th>\n",
       "      <th>Flux</th>\n",
       "      <th>C-Number</th>\n",
       "      <th>C-Flux</th>\n",
       "    </tr>\n",
       "  </thead>\n",
       "  <tbody>\n",
       "    <tr>\n",
       "      <td>C</td>\n",
       "      <td>M</td>\n",
       "      <td>-0.1</td>\n",
       "      <td>0</td>\n",
       "      <td>0.00%</td>\n",
       "    </tr>\n",
       "    <tr>\n",
       "      <td>ATP</td>\n",
       "      <td>reaction4</td>\n",
       "      <td>-0.9</td>\n",
       "      <td>0</td>\n",
       "      <td>0.00%</td>\n",
       "    </tr>\n",
       "  </tbody>\n",
       "</table>"
      ],
      "text/plain": [
       "<cobra.summary.model_summary.ModelSummary at 0x1d4741c5580>"
      ]
     },
     "execution_count": 12,
     "metadata": {},
     "output_type": "execute_result"
    }
   ],
   "source": [
    "# summarize the model\n",
    "\n",
    "model.summary()"
   ]
  },
  {
   "cell_type": "code",
   "execution_count": null,
   "id": "1f8cefcc",
   "metadata": {},
   "outputs": [],
   "source": []
  }
 ],
 "metadata": {
  "kernelspec": {
   "display_name": "Python 3",
   "language": "python",
   "name": "python3"
  },
  "language_info": {
   "codemirror_mode": {
    "name": "ipython",
    "version": 3
   },
   "file_extension": ".py",
   "mimetype": "text/x-python",
   "name": "python",
   "nbconvert_exporter": "python",
   "pygments_lexer": "ipython3",
   "version": "3.8.8"
  }
 },
 "nbformat": 4,
 "nbformat_minor": 5
}
